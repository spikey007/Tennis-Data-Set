{
 "cells": [
  {
   "cell_type": "code",
   "execution_count": 1,
   "metadata": {},
   "outputs": [],
   "source": [
    "import os\n",
    "import pandas as pd\n",
    "import numpy as np\n",
    "import matplotlib.pyplot as plt\n",
    "from pandas.plotting import scatter_matrix\n",
    "import matplotlib.pyplot as plt\n",
    "from plotly.offline import plot"
   ]
  },
  {
   "cell_type": "code",
   "execution_count": 2,
   "metadata": {},
   "outputs": [],
   "source": [
    "tennis_train=pd.read_csv(\"train-1542197608821.csv\")\n",
    "tennis_test=pd.read_csv(\"test-1542197608821.csv\")"
   ]
  },
  {
   "cell_type": "code",
   "execution_count": 3,
   "metadata": {},
   "outputs": [],
   "source": [
    "tennis_train=tennis_train.drop([\"ID\"],axis=1)\n",
    "tennis_test=tennis_test.drop([\"ID\"],axis=1)"
   ]
  },
  {
   "cell_type": "code",
   "execution_count": 4,
   "metadata": {},
   "outputs": [],
   "source": [
    "#create dummy variables for the column\n",
    "dummies = pd.get_dummies(tennis_train['gender'])\n",
    "\n",
    "#drop the original column\n",
    "tennis_train = tennis_train.drop('gender', axis=1)\n",
    "\n",
    "#add dummy variables\n",
    "tennis_train = tennis_train.join(dummies)"
   ]
  },
  {
   "cell_type": "code",
   "execution_count": 5,
   "metadata": {},
   "outputs": [],
   "source": [
    "#create dummy variables for the column\n",
    "dummies1 = pd.get_dummies(tennis_train['hitpoint'])\n",
    "\n",
    "#drop the original column\n",
    "tennis_train = tennis_train.drop('hitpoint', axis=1)\n",
    "\n",
    "#add dummy variables\n",
    "tennis_train = tennis_train.join(dummies1)"
   ]
  },
  {
   "cell_type": "code",
   "execution_count": 6,
   "metadata": {},
   "outputs": [],
   "source": [
    "tennis_train.rename(columns={'B': 'hitpointB', 'F': 'hitpointF','U': 'hitpointU','V': 'hitpointV'},inplace=True)"
   ]
  },
  {
   "cell_type": "code",
   "execution_count": 7,
   "metadata": {},
   "outputs": [],
   "source": [
    "#create dummy variables for the column\n",
    "dummies3 = pd.get_dummies(tennis_train['previous.hitpoint'])\n",
    "\n",
    "#drop the original column\n",
    "tennis_train = tennis_train.drop('previous.hitpoint', axis=1)\n",
    "\n",
    "#add dummy variables\n",
    "tennis_train = tennis_train.join(dummies3)"
   ]
  },
  {
   "cell_type": "code",
   "execution_count": 8,
   "metadata": {},
   "outputs": [],
   "source": [
    "tennis_train.rename(columns={'B': 'prehitpointB', 'F': 'prehitpointF','U': 'prehitpointU','V': 'prehitpointV'},inplace=True)"
   ]
  },
  {
   "cell_type": "code",
   "execution_count": 9,
   "metadata": {},
   "outputs": [],
   "source": [
    "def to_bool(s):\n",
    "    if s==True:\n",
    "        return(1)\n",
    "    else:\n",
    "        return(0)"
   ]
  },
  {
   "cell_type": "code",
   "execution_count": 10,
   "metadata": {},
   "outputs": [],
   "source": [
    "tennis_train[\"outside.sideline\"]=(tennis_train[\"outside.sideline\"].apply(lambda x: to_bool(x)))\n",
    "tennis_train[\"outside.baseline\"]=(tennis_train[\"outside.baseline\"].apply(lambda x: to_bool(x)))"
   ]
  },
  {
   "cell_type": "code",
   "execution_count": 11,
   "metadata": {},
   "outputs": [],
   "source": [
    "from sklearn.metrics import confusion_matrix \n",
    "from sklearn.model_selection import train_test_split "
   ]
  },
  {
   "cell_type": "code",
   "execution_count": 12,
   "metadata": {},
   "outputs": [],
   "source": [
    "import random\n",
    "random.seed(430)\n",
    "# Divide in to train and validate\n",
    "y=tennis_train[\"outcome\"]\n",
    "X=tennis_train.drop('outcome', axis=1)\n",
    "\n",
    "#from sklearn.model_selection import train_test_split  \n",
    "X_train, X_test, y_train, y_test = train_test_split(X, y, test_size=0.20)"
   ]
  },
  {
   "cell_type": "code",
   "execution_count": 13,
   "metadata": {},
   "outputs": [
    {
     "name": "stdout",
     "output_type": "stream",
     "text": [
      "(6400, 32)\n",
      "(1601, 32)\n",
      "(6400,)\n",
      "(1601,)\n"
     ]
    }
   ],
   "source": [
    "print(X_train.shape)\n",
    "print(X_test.shape)\n",
    "print(y_train.shape)\n",
    "print(y_test.shape)"
   ]
  },
  {
   "cell_type": "code",
   "execution_count": 22,
   "metadata": {},
   "outputs": [
    {
     "name": "stdout",
     "output_type": "stream",
     "text": [
      "RandomForestClassifier(bootstrap=True, class_weight=None, criterion='gini',\n",
      "            max_depth=20, max_features='auto', max_leaf_nodes=None,\n",
      "            min_impurity_decrease=0.0, min_impurity_split=None,\n",
      "            min_samples_leaf=1, min_samples_split=2,\n",
      "            min_weight_fraction_leaf=0.0, n_estimators=100, n_jobs=1,\n",
      "            oob_score=True, random_state=3, verbose=True, warm_start=False)\n"
     ]
    },
    {
     "name": "stderr",
     "output_type": "stream",
     "text": [
      "[Parallel(n_jobs=1)]: Done 100 out of 100 | elapsed:    2.5s finished\n",
      "[Parallel(n_jobs=1)]: Done 100 out of 100 | elapsed:    0.0s finished\n"
     ]
    }
   ],
   "source": [
    "from sklearn.ensemble import RandomForestClassifier\n",
    "\n",
    "classifier = RandomForestClassifier(n_estimators=100,max_depth=20, random_state=3,oob_score=True,verbose=True,n_jobs=1,\n",
    "                                   )\n",
    "print(classifier)\n",
    "classifier.fit(X_train, y_train)\n",
    "\n",
    "# Predicting the Test set results\n",
    "y_pred = classifier.predict(X_test)  "
   ]
  },
  {
   "cell_type": "code",
   "execution_count": null,
   "metadata": {},
   "outputs": [],
   "source": []
  },
  {
   "cell_type": "code",
   "execution_count": 15,
   "metadata": {},
   "outputs": [
    {
     "data": {
      "text/html": [
       "<div>\n",
       "<style scoped>\n",
       "    .dataframe tbody tr th:only-of-type {\n",
       "        vertical-align: middle;\n",
       "    }\n",
       "\n",
       "    .dataframe tbody tr th {\n",
       "        vertical-align: top;\n",
       "    }\n",
       "\n",
       "    .dataframe thead th {\n",
       "        text-align: right;\n",
       "    }\n",
       "</style>\n",
       "<table border=\"1\" class=\"dataframe\">\n",
       "  <thead>\n",
       "    <tr style=\"text-align: right;\">\n",
       "      <th></th>\n",
       "      <th>importance</th>\n",
       "    </tr>\n",
       "  </thead>\n",
       "  <tbody>\n",
       "    <tr>\n",
       "      <th>net.clearance</th>\n",
       "      <td>0.150999</td>\n",
       "    </tr>\n",
       "    <tr>\n",
       "      <th>outside.sideline</th>\n",
       "      <td>0.088003</td>\n",
       "    </tr>\n",
       "    <tr>\n",
       "      <th>previous.time.to.net</th>\n",
       "      <td>0.073043</td>\n",
       "    </tr>\n",
       "    <tr>\n",
       "      <th>speed</th>\n",
       "      <td>0.070042</td>\n",
       "    </tr>\n",
       "    <tr>\n",
       "      <th>outside.baseline</th>\n",
       "      <td>0.066449</td>\n",
       "    </tr>\n",
       "    <tr>\n",
       "      <th>depth</th>\n",
       "      <td>0.061478</td>\n",
       "    </tr>\n",
       "    <tr>\n",
       "      <th>previous.speed</th>\n",
       "      <td>0.053144</td>\n",
       "    </tr>\n",
       "    <tr>\n",
       "      <th>player.impact.depth</th>\n",
       "      <td>0.052588</td>\n",
       "    </tr>\n",
       "    <tr>\n",
       "      <th>previous.distance.from.sideline</th>\n",
       "      <td>0.047967</td>\n",
       "    </tr>\n",
       "    <tr>\n",
       "      <th>distance.from.sideline</th>\n",
       "      <td>0.046911</td>\n",
       "    </tr>\n",
       "    <tr>\n",
       "      <th>opponent.depth</th>\n",
       "      <td>0.043081</td>\n",
       "    </tr>\n",
       "    <tr>\n",
       "      <th>player.distance.travelled</th>\n",
       "      <td>0.035476</td>\n",
       "    </tr>\n",
       "    <tr>\n",
       "      <th>previous.depth</th>\n",
       "      <td>0.032378</td>\n",
       "    </tr>\n",
       "    <tr>\n",
       "      <th>previous.net.clearance</th>\n",
       "      <td>0.030420</td>\n",
       "    </tr>\n",
       "    <tr>\n",
       "      <th>player.depth</th>\n",
       "      <td>0.028022</td>\n",
       "    </tr>\n",
       "    <tr>\n",
       "      <th>player.impact.distance.from.center</th>\n",
       "      <td>0.024867</td>\n",
       "    </tr>\n",
       "    <tr>\n",
       "      <th>opponent.distance.from.center</th>\n",
       "      <td>0.022682</td>\n",
       "    </tr>\n",
       "    <tr>\n",
       "      <th>player.distance.from.center</th>\n",
       "      <td>0.021665</td>\n",
       "    </tr>\n",
       "    <tr>\n",
       "      <th>rally</th>\n",
       "      <td>0.011351</td>\n",
       "    </tr>\n",
       "    <tr>\n",
       "      <th>prehitpointV</th>\n",
       "      <td>0.005397</td>\n",
       "    </tr>\n",
       "    <tr>\n",
       "      <th>serve</th>\n",
       "      <td>0.003744</td>\n",
       "    </tr>\n",
       "    <tr>\n",
       "      <th>hitpointF</th>\n",
       "      <td>0.003731</td>\n",
       "    </tr>\n",
       "    <tr>\n",
       "      <th>hitpointB</th>\n",
       "      <td>0.003630</td>\n",
       "    </tr>\n",
       "    <tr>\n",
       "      <th>womens</th>\n",
       "      <td>0.003303</td>\n",
       "    </tr>\n",
       "    <tr>\n",
       "      <th>prehitpointF</th>\n",
       "      <td>0.003291</td>\n",
       "    </tr>\n",
       "    <tr>\n",
       "      <th>server.is.impact.player</th>\n",
       "      <td>0.003074</td>\n",
       "    </tr>\n",
       "    <tr>\n",
       "      <th>mens</th>\n",
       "      <td>0.003014</td>\n",
       "    </tr>\n",
       "    <tr>\n",
       "      <th>prehitpointB</th>\n",
       "      <td>0.002818</td>\n",
       "    </tr>\n",
       "    <tr>\n",
       "      <th>same.side</th>\n",
       "      <td>0.002680</td>\n",
       "    </tr>\n",
       "    <tr>\n",
       "      <th>hitpointV</th>\n",
       "      <td>0.001835</td>\n",
       "    </tr>\n",
       "    <tr>\n",
       "      <th>hitpointU</th>\n",
       "      <td>0.001512</td>\n",
       "    </tr>\n",
       "    <tr>\n",
       "      <th>prehitpointU</th>\n",
       "      <td>0.001406</td>\n",
       "    </tr>\n",
       "  </tbody>\n",
       "</table>\n",
       "</div>"
      ],
      "text/plain": [
       "                                    importance\n",
       "net.clearance                         0.150999\n",
       "outside.sideline                      0.088003\n",
       "previous.time.to.net                  0.073043\n",
       "speed                                 0.070042\n",
       "outside.baseline                      0.066449\n",
       "depth                                 0.061478\n",
       "previous.speed                        0.053144\n",
       "player.impact.depth                   0.052588\n",
       "previous.distance.from.sideline       0.047967\n",
       "distance.from.sideline                0.046911\n",
       "opponent.depth                        0.043081\n",
       "player.distance.travelled             0.035476\n",
       "previous.depth                        0.032378\n",
       "previous.net.clearance                0.030420\n",
       "player.depth                          0.028022\n",
       "player.impact.distance.from.center    0.024867\n",
       "opponent.distance.from.center         0.022682\n",
       "player.distance.from.center           0.021665\n",
       "rally                                 0.011351\n",
       "prehitpointV                          0.005397\n",
       "serve                                 0.003744\n",
       "hitpointF                             0.003731\n",
       "hitpointB                             0.003630\n",
       "womens                                0.003303\n",
       "prehitpointF                          0.003291\n",
       "server.is.impact.player               0.003074\n",
       "mens                                  0.003014\n",
       "prehitpointB                          0.002818\n",
       "same.side                             0.002680\n",
       "hitpointV                             0.001835\n",
       "hitpointU                             0.001512\n",
       "prehitpointU                          0.001406"
      ]
     },
     "execution_count": 15,
     "metadata": {},
     "output_type": "execute_result"
    }
   ],
   "source": [
    "import pandas as pd\n",
    "feature_importances = pd.DataFrame(classifier.feature_importances_,\n",
    "                                   index = X_train.columns,\n",
    "                                    columns=['importance']).sort_values('importance',ascending=False)\n",
    "feature_importances\n",
    "\n"
   ]
  },
  {
   "cell_type": "code",
   "execution_count": 16,
   "metadata": {},
   "outputs": [
    {
     "data": {
      "image/png": "[encoded data removed]",
      "text/plain": [
       "<Figure size 432x288 with 1 Axes>"
      ]
     },
     "metadata": {},
     "output_type": "display_data"
    }
   ],
   "source": [
    "feature_importances[\"Std\"] = np.std([tree.feature_importances_\n",
    "                            for tree in classifier.estimators_], axis=0)\n",
    "\n",
    "x = range(feature_importances.shape[0])\n",
    "y = feature_importances.iloc[:, 0]\n",
    "yerr = feature_importances.iloc[:, 1]\n",
    "\n",
    "plt.bar(x, y, yerr=yerr, align=\"center\")\n",
    "\n",
    "plt.show()"
   ]
  },
  {
   "cell_type": "code",
   "execution_count": null,
   "metadata": {},
   "outputs": [],
   "source": []
  },
  {
   "cell_type": "code",
   "execution_count": 24,
   "metadata": {},
   "outputs": [
    {
     "name": "stdout",
     "output_type": "stream",
     "text": [
      "[[265  86  13]\n",
      " [ 75 605  23]\n",
      " [ 16  21 497]]\n",
      "0.853841349156777\n"
     ]
    }
   ],
   "source": [
    "from sklearn.metrics import confusion_matrix  \n",
    "from sklearn.metrics import accuracy_score\n",
    "\n",
    "cm = confusion_matrix(y_test, y_pred)  \n",
    "print(cm)  \n",
    "from sklearn.metrics import accuracy_score\n",
    "print(accuracy_score(y_test,y_pred)) "
   ]
  },
  {
   "cell_type": "code",
   "execution_count": 18,
   "metadata": {},
   "outputs": [],
   "source": [
    "def get_feature_selection_model_from_name(type_of_estimator, classifier):\n",
    "    model_map = {\n",
    "        'classifier': {\n",
    "            'SelectFromModel': SelectFromModel(RandomForestClassifier(n_jobs=-1, max_depth=10, n_estimators=15), threshold='20*mean'),\n",
    "            'RFECV': RFECV(estimator=RandomForestClassifier(n_jobs=-1), step=0.1),\n",
    "            'GenericUnivariateSelect': GenericUnivariateSelect(),\n",
    "            'RandomizedSparse': RandomizedLogisticRegression(),\n",
    "            'KeepAll': 'KeepAll'\n",
    "        },\n",
    "        'regressor': {\n",
    "            'SelectFromModel': SelectFromModel(RandomForestRegressor(n_jobs=-1, max_depth=10, n_estimators=15), threshold='0.7*mean'),\n",
    "            'RFECV': RFECV(estimator=RandomForestRegressor(n_jobs=-1), step=0.1),\n",
    "            'GenericUnivariateSelect': GenericUnivariateSelect(),\n",
    "            'RandomizedSparse': RandomizedLasso(),\n",
    "            'KeepAll': 'KeepAll'\n",
    "        }\n",
    "    }\n",
    "\n",
    "    return model_map[type_of_estimator][classifier] "
   ]
  },
  {
   "cell_type": "code",
   "execution_count": 20,
   "metadata": {},
   "outputs": [],
   "source": [
    "from sklearn.model_selection import GridSearchCV\n",
    "from sklearn.metrics import accuracy_score, make_scorer\n",
    "\n",
    "param_grid = {'n_estimators': [10, 100, 1000], 'max_features': [5, 10, 20, 30]}\n",
    "clf = GridSearchCV(RandomForestClassifier(), param_grid, cv=5, scoring=make_scorer(accuracy_score))\n",
    "clf.fit(X_train, y_train)\n",
    "\n",
    "# Predicting the Test set results\n",
    "y_pred = clf.predict(X_test)"
   ]
  },
  {
   "cell_type": "code",
   "execution_count": 21,
   "metadata": {},
   "outputs": [
    {
     "name": "stdout",
     "output_type": "stream",
     "text": [
      "[[262  88  14]\n",
      " [ 81 599  23]\n",
      " [ 15  20 499]]\n",
      "0.84946908182386\n"
     ]
    }
   ],
   "source": [
    "from sklearn.metrics import confusion_matrix  \n",
    "from sklearn.metrics import accuracy_score\n",
    "\n",
    "cm = confusion_matrix(y_test, y_pred)  \n",
    "print(cm)  \n",
    "from sklearn.metrics import accuracy_score\n",
    "print(accuracy_score(y_test,y_pred)) "
   ]
  }
 ],
 "metadata": {
  "kernelspec": {
   "display_name": "Python 3",
   "language": "python",
   "name": "python3"
  },
  "language_info": {
   "codemirror_mode": {
    "name": "ipython",
    "version": 3
   },
   "file_extension": ".py",
   "mimetype": "text/x-python",
   "name": "python",
   "nbconvert_exporter": "python",
   "pygments_lexer": "ipython3",
   "version": "3.6.5"
  }
 },
 "nbformat": 4,
 "nbformat_minor": 2
}
